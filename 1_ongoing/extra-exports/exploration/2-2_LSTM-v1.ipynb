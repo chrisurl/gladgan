{
 "cells": [
  {
   "cell_type": "markdown",
   "metadata": {},
   "source": [
    "# Time Series Prediction using LSTM in Python\n",
    "\n",
    "After the first approach in the previous file, we are now trying to set up the whole process more formally."
   ]
  },
  {
   "cell_type": "markdown",
   "metadata": {},
   "source": [
    "### 0.1 Packages"
   ]
  },
  {
   "cell_type": "code",
   "execution_count": 1,
   "metadata": {},
   "outputs": [],
   "source": [
    "import pandas as pd\n",
    "import numpy as np\n",
    "from sklearn.preprocessing import StandardScaler\n",
    "import tensorflow as tf\n",
    "from tensorflow.keras.models import Sequential\n",
    "from tensorflow.keras.layers import LSTM, Dense\n",
    "import warnings\n",
    "warnings.filterwarnings('ignore')"
   ]
  },
  {
   "cell_type": "markdown",
   "metadata": {},
   "source": [
    "## 1. Functions\n",
    "\n",
    "### 1.1 Loading\n",
    "\n",
    "We need to handle the following:\n",
    "\n",
    "* NA Values: Ensure that 'NA' strings are correctly interpreted as NaN.\n",
    "* Date Parsing: Parse the 'time' column as dates."
   ]
  },
  {
   "cell_type": "code",
   "execution_count": 2,
   "metadata": {},
   "outputs": [],
   "source": [
    "def load_data(file_path):\n",
    "    # Read the CSV file, specifying NA values and parsing dates\n",
    "    df = pd.read_csv(\n",
    "        file_path,\n",
    "        na_values=['NA'],\n",
    "        parse_dates=['time'],\n",
    "        infer_datetime_format=True\n",
    "    )\n",
    "    return df"
   ]
  },
  {
   "cell_type": "markdown",
   "metadata": {},
   "source": [
    "* `na_values=['NA']`: Interprets 'NA' strings as NaN.\n",
    "* `parse_dates=['time']`: Parses the 'time' column as datetime objects.\n",
    "* `infer_datetime_format`=True: Speeds up date parsing by inferring the format."
   ]
  },
  {
   "cell_type": "markdown",
   "metadata": {},
   "source": [
    "### 1.2 Data Preprocessing"
   ]
  },
  {
   "cell_type": "code",
   "execution_count": 3,
   "metadata": {},
   "outputs": [],
   "source": [
    "\n",
    "def scale2(x):\n",
    "    return (x - np.nanmean(x)) / np.nanstd(x)\n",
    "\n",
    "def clean_data(df):\n",
    "    # Keep relevant columns\n",
    "    df = df[['geo', 'time', 'values']].copy()\n",
    "    \n",
    "    # Sort by time\n",
    "    df = df.sort_values('time').reset_index(drop=True)\n",
    "    \n",
    "    # Scaling and log transformation\n",
    "    df['values_scale'] = df.groupby('geo')['values'].transform(scale2)\n",
    "    df['values_log'] = np.log(df['values'])\n",
    "    df['values_scale_mean'] = df.groupby('geo')['values'].transform('mean')\n",
    "    df['values_scale_sd'] = df.groupby('geo')['values'].transform('std')\n",
    "    \n",
    "    return df"
   ]
  },
  {
   "cell_type": "markdown",
   "metadata": {},
   "source": [
    "### 1.3. Helpers"
   ]
  },
  {
   "cell_type": "code",
   "execution_count": 4,
   "metadata": {},
   "outputs": [],
   "source": [
    "\n",
    "# 3. Helper Functions for LSTM\n",
    "def create_sequences(values, n_steps=12, n_future=2):\n",
    "    X, y = [], []\n",
    "    for i in range(len(values) - n_steps - n_future + 1):\n",
    "        X.append(values[i:i+n_steps])\n",
    "        y.append(values[i+n_steps:i+n_steps+n_future])\n",
    "    X = np.array(X).reshape(-1, n_steps, 1)\n",
    "    y = np.array(y)\n",
    "    return X, y\n",
    "\n",
    "def build_lstm_model(input_shape):\n",
    "    model = Sequential()\n",
    "    model.add(LSTM(50, activation='relu', input_shape=input_shape))\n",
    "    model.add(Dense(2))  # Predicting 2 steps ahead\n",
    "    model.compile(optimizer='adam', loss='mse')\n",
    "    return model"
   ]
  },
  {
   "cell_type": "markdown",
   "metadata": {},
   "source": [
    "### 1.4 Processing Subsets"
   ]
  },
  {
   "cell_type": "code",
   "execution_count": 23,
   "metadata": {},
   "outputs": [],
   "source": [
    "def process_subset(sub_length, df):\n",
    "    print(f\"Running subset length: {sub_length}\")\n",
    "    # Subset the data for the current length\n",
    "    data_subset = df.tail(sub_length)\n",
    "    values = data_subset['values_scale'].values\n",
    "    \n",
    "    # Check if we have enough data points\n",
    "    if len(values) < 14:  # Minimum required for 12 steps and 2 future steps\n",
    "        print(\"Not enough data points for this subset length.\")\n",
    "        return None\n",
    "    \n",
    "    # Prepare the data for LSTM\n",
    "    X, y = create_sequences(values, n_steps=12, n_future=2)\n",
    "    \n",
    "    # Build and train the LSTM model\n",
    "    model = build_lstm_model(input_shape=(X.shape[1], X.shape[2]))\n",
    "    history = model.fit(X, y, epochs=50, verbose=0)\n",
    "    \n",
    "    # Make predictions (two-step ahead)\n",
    "    y_pred = model.predict(X[-1].reshape(1, X.shape[1], X.shape[2]))\n",
    "    \n",
    "    # Calculate RMSE\n",
    "    rmse = np.sqrt(np.mean((y_pred - y[-1])**2))\n",
    "    \n",
    "    # Prepare forecast dates\n",
    "    last_date = data_subset['time'].iloc[-1]\n",
    "    future_dates = [last_date + pd.DateOffset(months=i+1) for i in range(2)]\n",
    "    \n",
    "    # Store results\n",
    "    results = {\n",
    "        'sub_length': sub_length,\n",
    "        'rmse': rmse,\n",
    "        'predictions': y_pred.flatten(),\n",
    "        'actual': y[-1].flatten(),\n",
    "        'forecast_dates': future_dates\n",
    "    }\n",
    "    return results"
   ]
  },
  {
   "cell_type": "markdown",
   "metadata": {},
   "source": [
    "### 1.5. Main estimation function"
   ]
  },
  {
   "cell_type": "code",
   "execution_count": 19,
   "metadata": {},
   "outputs": [],
   "source": [
    "# 5. Main Estimation Function\n",
    "def estimate_lstm_models(data, country, series, sub=6):\n",
    "    df = data[data['geo'] == country].copy()\n",
    "    df.reset_index(drop=True, inplace=True) \n",
    "\n",
    "    df = df[['time', 'geo', series]].dropna()  # Drop rows with NaN in 'series'\n",
    "    df['values'] = df[series]\n",
    "    \n",
    "    # Check if we have enough data after dropping NaNs\n",
    "    if df.empty or len(df) < 14:\n",
    "        print(\"Not enough data after dropping missing values.\")\n",
    "        return pd.DataFrame()\n",
    "    \n",
    "    df = clean_data(df)\n",
    "    \n",
    "    # Sort by time\n",
    "    df = df.sort_values('time').reset_index(drop=True)\n",
    "    \n",
    "    # Define the lengths of subsets you want to test\n",
    "    total_length = len(df)\n",
    "    sub_lengths = [6 * i for i in range(1, (total_length // 6) + 1)]\n",
    "    \n",
    "    results_list = []\n",
    "    for sub_length in sub_lengths:\n",
    "        result = process_subset(sub_length, df)\n",
    "        if result is not None:\n",
    "            result.update({'geo': country, 'series': series})\n",
    "            results_list.append(result)\n",
    "    \n",
    "    if results_list:\n",
    "        results_df = pd.DataFrame(results_list)\n",
    "        return results_df\n",
    "    else:\n",
    "        print(\"No valid results to display.\")\n",
    "        return pd.DataFrame()"
   ]
  },
  {
   "cell_type": "markdown",
   "metadata": {},
   "source": [
    "## 2. First estimation"
   ]
  },
  {
   "cell_type": "code",
   "execution_count": 14,
   "metadata": {},
   "outputs": [
    {
     "data": {
      "text/html": [
       "<div>\n",
       "<style scoped>\n",
       "    .dataframe tbody tr th:only-of-type {\n",
       "        vertical-align: middle;\n",
       "    }\n",
       "\n",
       "    .dataframe tbody tr th {\n",
       "        vertical-align: top;\n",
       "    }\n",
       "\n",
       "    .dataframe thead th {\n",
       "        text-align: right;\n",
       "    }\n",
       "</style>\n",
       "<table border=\"1\" class=\"dataframe\">\n",
       "  <thead>\n",
       "    <tr style=\"text-align: right;\">\n",
       "      <th></th>\n",
       "      <th>freq</th>\n",
       "      <th>stk_flow</th>\n",
       "      <th>unit</th>\n",
       "      <th>partner</th>\n",
       "      <th>indic</th>\n",
       "      <th>geo</th>\n",
       "      <th>time</th>\n",
       "      <th>values</th>\n",
       "    </tr>\n",
       "  </thead>\n",
       "  <tbody>\n",
       "    <tr>\n",
       "      <th>0</th>\n",
       "      <td>M</td>\n",
       "      <td>EXP</td>\n",
       "      <td>MIO-EUR-NSA</td>\n",
       "      <td>EXT_EU27_2020</td>\n",
       "      <td>ET-T</td>\n",
       "      <td>EU27_2020</td>\n",
       "      <td>1999-01-01</td>\n",
       "      <td>NaN</td>\n",
       "    </tr>\n",
       "    <tr>\n",
       "      <th>1</th>\n",
       "      <td>M</td>\n",
       "      <td>EXP</td>\n",
       "      <td>MIO-EUR-NSA</td>\n",
       "      <td>EXT_EU27_2020</td>\n",
       "      <td>ET-T</td>\n",
       "      <td>EU27_2020</td>\n",
       "      <td>1999-02-01</td>\n",
       "      <td>NaN</td>\n",
       "    </tr>\n",
       "    <tr>\n",
       "      <th>2</th>\n",
       "      <td>M</td>\n",
       "      <td>EXP</td>\n",
       "      <td>MIO-EUR-NSA</td>\n",
       "      <td>EXT_EU27_2020</td>\n",
       "      <td>ET-T</td>\n",
       "      <td>EU27_2020</td>\n",
       "      <td>1999-03-01</td>\n",
       "      <td>NaN</td>\n",
       "    </tr>\n",
       "    <tr>\n",
       "      <th>3</th>\n",
       "      <td>M</td>\n",
       "      <td>EXP</td>\n",
       "      <td>MIO-EUR-NSA</td>\n",
       "      <td>EXT_EU27_2020</td>\n",
       "      <td>ET-T</td>\n",
       "      <td>EU27_2020</td>\n",
       "      <td>1999-04-01</td>\n",
       "      <td>NaN</td>\n",
       "    </tr>\n",
       "    <tr>\n",
       "      <th>4</th>\n",
       "      <td>M</td>\n",
       "      <td>EXP</td>\n",
       "      <td>MIO-EUR-NSA</td>\n",
       "      <td>EXT_EU27_2020</td>\n",
       "      <td>ET-T</td>\n",
       "      <td>EU27_2020</td>\n",
       "      <td>1999-05-01</td>\n",
       "      <td>NaN</td>\n",
       "    </tr>\n",
       "  </tbody>\n",
       "</table>\n",
       "</div>"
      ],
      "text/plain": [
       "  freq stk_flow         unit        partner indic        geo       time  \\\n",
       "0    M      EXP  MIO-EUR-NSA  EXT_EU27_2020  ET-T  EU27_2020 1999-01-01   \n",
       "1    M      EXP  MIO-EUR-NSA  EXT_EU27_2020  ET-T  EU27_2020 1999-02-01   \n",
       "2    M      EXP  MIO-EUR-NSA  EXT_EU27_2020  ET-T  EU27_2020 1999-03-01   \n",
       "3    M      EXP  MIO-EUR-NSA  EXT_EU27_2020  ET-T  EU27_2020 1999-04-01   \n",
       "4    M      EXP  MIO-EUR-NSA  EXT_EU27_2020  ET-T  EU27_2020 1999-05-01   \n",
       "\n",
       "   values  \n",
       "0     NaN  \n",
       "1     NaN  \n",
       "2     NaN  \n",
       "3     NaN  \n",
       "4     NaN  "
      ]
     },
     "execution_count": 14,
     "metadata": {},
     "output_type": "execute_result"
    }
   ],
   "source": [
    "file_path = '../data_ignore/df_2024-10.csv'  # Replace with your actual file path\n",
    "# Specify the country and series you want to analyze\n",
    "country = 'EU27_2020'    # Replace with the actual country code from your data\n",
    "series = 'values'        # Column name of your series (already 'values' in your data)\n",
    "\n",
    "# Load the data\n",
    "data = load_data(file_path)\n",
    "\n",
    "data.head()"
   ]
  },
  {
   "cell_type": "code",
   "execution_count": 18,
   "metadata": {},
   "outputs": [
    {
     "data": {
      "text/html": [
       "<div>\n",
       "<style scoped>\n",
       "    .dataframe tbody tr th:only-of-type {\n",
       "        vertical-align: middle;\n",
       "    }\n",
       "\n",
       "    .dataframe tbody tr th {\n",
       "        vertical-align: top;\n",
       "    }\n",
       "\n",
       "    .dataframe thead th {\n",
       "        text-align: right;\n",
       "    }\n",
       "</style>\n",
       "<table border=\"1\" class=\"dataframe\">\n",
       "  <thead>\n",
       "    <tr style=\"text-align: right;\">\n",
       "      <th></th>\n",
       "      <th>time</th>\n",
       "      <th>geo</th>\n",
       "      <th>values</th>\n",
       "    </tr>\n",
       "  </thead>\n",
       "  <tbody>\n",
       "    <tr>\n",
       "      <th>36</th>\n",
       "      <td>2002-01-01</td>\n",
       "      <td>EU27_2020</td>\n",
       "      <td>75921.4</td>\n",
       "    </tr>\n",
       "    <tr>\n",
       "      <th>37</th>\n",
       "      <td>2002-02-01</td>\n",
       "      <td>EU27_2020</td>\n",
       "      <td>78349.3</td>\n",
       "    </tr>\n",
       "    <tr>\n",
       "      <th>38</th>\n",
       "      <td>2002-03-01</td>\n",
       "      <td>EU27_2020</td>\n",
       "      <td>86735.4</td>\n",
       "    </tr>\n",
       "    <tr>\n",
       "      <th>39</th>\n",
       "      <td>2002-04-01</td>\n",
       "      <td>EU27_2020</td>\n",
       "      <td>84412.5</td>\n",
       "    </tr>\n",
       "    <tr>\n",
       "      <th>40</th>\n",
       "      <td>2002-05-01</td>\n",
       "      <td>EU27_2020</td>\n",
       "      <td>85247.8</td>\n",
       "    </tr>\n",
       "  </tbody>\n",
       "</table>\n",
       "</div>"
      ],
      "text/plain": [
       "         time        geo   values\n",
       "36 2002-01-01  EU27_2020  75921.4\n",
       "37 2002-02-01  EU27_2020  78349.3\n",
       "38 2002-03-01  EU27_2020  86735.4\n",
       "39 2002-04-01  EU27_2020  84412.5\n",
       "40 2002-05-01  EU27_2020  85247.8"
      ]
     },
     "execution_count": 18,
     "metadata": {},
     "output_type": "execute_result"
    }
   ],
   "source": [
    "df = data[data['geo'] == country].copy()\n",
    "df.reset_index(drop=True, inplace=True) \n",
    "\n",
    "df = df[['time', 'geo', series]].dropna()  # Drop rows with NaN in 'series'\n",
    "df['values'] = df[series]\n",
    "df.head()"
   ]
  },
  {
   "cell_type": "code",
   "execution_count": 24,
   "metadata": {},
   "outputs": [
    {
     "name": "stdout",
     "output_type": "stream",
     "text": [
      "Running subset length: 6\n",
      "Not enough data points for this subset length.\n",
      "Running subset length: 12\n",
      "Not enough data points for this subset length.\n",
      "Running subset length: 18\n",
      "WARNING:tensorflow:Layer lstm_13 will not use cuDNN kernels since it doesn't meet the criteria. It will use a generic GPU kernel as fallback when running on GPU.\n"
     ]
    },
    {
     "name": "stderr",
     "output_type": "stream",
     "text": [
      "2024-11-18 13:31:50.027083: I tensorflow/core/grappler/optimizers/custom_graph_optimizer_registry.cc:113] Plugin optimizer for device_type GPU is enabled.\n"
     ]
    },
    {
     "name": "stdout",
     "output_type": "stream",
     "text": [
      "1/1 [==============================] - 0s 102ms/step\n",
      "Running subset length: 24\n",
      "WARNING:tensorflow:Layer lstm_14 will not use cuDNN kernels since it doesn't meet the criteria. It will use a generic GPU kernel as fallback when running on GPU.\n"
     ]
    },
    {
     "name": "stderr",
     "output_type": "stream",
     "text": [
      "2024-11-18 13:31:57.531304: I tensorflow/core/grappler/optimizers/custom_graph_optimizer_registry.cc:113] Plugin optimizer for device_type GPU is enabled.\n",
      "2024-11-18 13:31:57.893560: I tensorflow/core/grappler/optimizers/custom_graph_optimizer_registry.cc:113] Plugin optimizer for device_type GPU is enabled.\n"
     ]
    },
    {
     "name": "stdout",
     "output_type": "stream",
     "text": [
      "1/1 [==============================] - 0s 104ms/step\n",
      "Running subset length: 30\n",
      "WARNING:tensorflow:Layer lstm_15 will not use cuDNN kernels since it doesn't meet the criteria. It will use a generic GPU kernel as fallback when running on GPU.\n"
     ]
    },
    {
     "name": "stderr",
     "output_type": "stream",
     "text": [
      "2024-11-18 13:32:05.364561: I tensorflow/core/grappler/optimizers/custom_graph_optimizer_registry.cc:113] Plugin optimizer for device_type GPU is enabled.\n",
      "2024-11-18 13:32:05.728780: I tensorflow/core/grappler/optimizers/custom_graph_optimizer_registry.cc:113] Plugin optimizer for device_type GPU is enabled.\n"
     ]
    },
    {
     "name": "stdout",
     "output_type": "stream",
     "text": [
      "1/1 [==============================] - 0s 104ms/step\n",
      "Running subset length: 36\n",
      "WARNING:tensorflow:Layer lstm_16 will not use cuDNN kernels since it doesn't meet the criteria. It will use a generic GPU kernel as fallback when running on GPU.\n"
     ]
    },
    {
     "name": "stderr",
     "output_type": "stream",
     "text": [
      "2024-11-18 13:32:13.223303: I tensorflow/core/grappler/optimizers/custom_graph_optimizer_registry.cc:113] Plugin optimizer for device_type GPU is enabled.\n",
      "2024-11-18 13:32:13.588495: I tensorflow/core/grappler/optimizers/custom_graph_optimizer_registry.cc:113] Plugin optimizer for device_type GPU is enabled.\n"
     ]
    },
    {
     "name": "stdout",
     "output_type": "stream",
     "text": [
      "1/1 [==============================] - 0s 103ms/step\n",
      "Running subset length: 42\n",
      "WARNING:tensorflow:Layer lstm_17 will not use cuDNN kernels since it doesn't meet the criteria. It will use a generic GPU kernel as fallback when running on GPU.\n"
     ]
    },
    {
     "name": "stderr",
     "output_type": "stream",
     "text": [
      "2024-11-18 13:32:21.086416: I tensorflow/core/grappler/optimizers/custom_graph_optimizer_registry.cc:113] Plugin optimizer for device_type GPU is enabled.\n",
      "2024-11-18 13:32:21.449430: I tensorflow/core/grappler/optimizers/custom_graph_optimizer_registry.cc:113] Plugin optimizer for device_type GPU is enabled.\n"
     ]
    },
    {
     "name": "stdout",
     "output_type": "stream",
     "text": [
      "1/1 [==============================] - 0s 103ms/step\n",
      "Running subset length: 48\n",
      "WARNING:tensorflow:Layer lstm_18 will not use cuDNN kernels since it doesn't meet the criteria. It will use a generic GPU kernel as fallback when running on GPU.\n"
     ]
    },
    {
     "name": "stderr",
     "output_type": "stream",
     "text": [
      "2024-11-18 13:32:28.935427: I tensorflow/core/grappler/optimizers/custom_graph_optimizer_registry.cc:113] Plugin optimizer for device_type GPU is enabled.\n",
      "2024-11-18 13:32:29.298614: I tensorflow/core/grappler/optimizers/custom_graph_optimizer_registry.cc:113] Plugin optimizer for device_type GPU is enabled.\n"
     ]
    },
    {
     "name": "stdout",
     "output_type": "stream",
     "text": [
      "1/1 [==============================] - 0s 113ms/step\n",
      "Running subset length: 54\n",
      "WARNING:tensorflow:Layer lstm_19 will not use cuDNN kernels since it doesn't meet the criteria. It will use a generic GPU kernel as fallback when running on GPU.\n"
     ]
    },
    {
     "name": "stderr",
     "output_type": "stream",
     "text": [
      "2024-11-18 13:32:44.527714: I tensorflow/core/grappler/optimizers/custom_graph_optimizer_registry.cc:113] Plugin optimizer for device_type GPU is enabled.\n",
      "2024-11-18 13:32:44.900581: I tensorflow/core/grappler/optimizers/custom_graph_optimizer_registry.cc:113] Plugin optimizer for device_type GPU is enabled.\n"
     ]
    },
    {
     "name": "stdout",
     "output_type": "stream",
     "text": [
      "1/1 [==============================] - 0s 104ms/step\n",
      "Running subset length: 60\n",
      "WARNING:tensorflow:Layer lstm_20 will not use cuDNN kernels since it doesn't meet the criteria. It will use a generic GPU kernel as fallback when running on GPU.\n"
     ]
    },
    {
     "name": "stderr",
     "output_type": "stream",
     "text": [
      "2024-11-18 13:32:59.967468: I tensorflow/core/grappler/optimizers/custom_graph_optimizer_registry.cc:113] Plugin optimizer for device_type GPU is enabled.\n",
      "2024-11-18 13:33:00.326957: I tensorflow/core/grappler/optimizers/custom_graph_optimizer_registry.cc:113] Plugin optimizer for device_type GPU is enabled.\n"
     ]
    },
    {
     "name": "stdout",
     "output_type": "stream",
     "text": [
      "1/1 [==============================] - 0s 104ms/step\n",
      "Running subset length: 66\n",
      "WARNING:tensorflow:Layer lstm_21 will not use cuDNN kernels since it doesn't meet the criteria. It will use a generic GPU kernel as fallback when running on GPU.\n"
     ]
    },
    {
     "name": "stderr",
     "output_type": "stream",
     "text": [
      "2024-11-18 13:33:15.361803: I tensorflow/core/grappler/optimizers/custom_graph_optimizer_registry.cc:113] Plugin optimizer for device_type GPU is enabled.\n",
      "2024-11-18 13:33:15.720903: I tensorflow/core/grappler/optimizers/custom_graph_optimizer_registry.cc:113] Plugin optimizer for device_type GPU is enabled.\n"
     ]
    },
    {
     "name": "stdout",
     "output_type": "stream",
     "text": [
      "1/1 [==============================] - 0s 105ms/step\n",
      "Running subset length: 72\n",
      "WARNING:tensorflow:Layer lstm_22 will not use cuDNN kernels since it doesn't meet the criteria. It will use a generic GPU kernel as fallback when running on GPU.\n"
     ]
    },
    {
     "name": "stderr",
     "output_type": "stream",
     "text": [
      "2024-11-18 13:33:30.475780: I tensorflow/core/grappler/optimizers/custom_graph_optimizer_registry.cc:113] Plugin optimizer for device_type GPU is enabled.\n",
      "2024-11-18 13:33:30.844235: I tensorflow/core/grappler/optimizers/custom_graph_optimizer_registry.cc:113] Plugin optimizer for device_type GPU is enabled.\n"
     ]
    },
    {
     "name": "stdout",
     "output_type": "stream",
     "text": [
      "1/1 [==============================] - 0s 103ms/step\n",
      "Running subset length: 78\n",
      "WARNING:tensorflow:Layer lstm_23 will not use cuDNN kernels since it doesn't meet the criteria. It will use a generic GPU kernel as fallback when running on GPU.\n"
     ]
    },
    {
     "name": "stderr",
     "output_type": "stream",
     "text": [
      "2024-11-18 13:33:45.617945: I tensorflow/core/grappler/optimizers/custom_graph_optimizer_registry.cc:113] Plugin optimizer for device_type GPU is enabled.\n",
      "2024-11-18 13:33:45.980353: I tensorflow/core/grappler/optimizers/custom_graph_optimizer_registry.cc:113] Plugin optimizer for device_type GPU is enabled.\n"
     ]
    },
    {
     "name": "stdout",
     "output_type": "stream",
     "text": [
      "1/1 [==============================] - 0s 102ms/step\n",
      "Running subset length: 84\n",
      "WARNING:tensorflow:Layer lstm_24 will not use cuDNN kernels since it doesn't meet the criteria. It will use a generic GPU kernel as fallback when running on GPU.\n"
     ]
    },
    {
     "name": "stderr",
     "output_type": "stream",
     "text": [
      "2024-11-18 13:34:08.627998: I tensorflow/core/grappler/optimizers/custom_graph_optimizer_registry.cc:113] Plugin optimizer for device_type GPU is enabled.\n",
      "2024-11-18 13:34:08.988226: I tensorflow/core/grappler/optimizers/custom_graph_optimizer_registry.cc:113] Plugin optimizer for device_type GPU is enabled.\n"
     ]
    },
    {
     "name": "stdout",
     "output_type": "stream",
     "text": [
      "1/1 [==============================] - 0s 103ms/step\n",
      "Running subset length: 90\n",
      "WARNING:tensorflow:Layer lstm_25 will not use cuDNN kernels since it doesn't meet the criteria. It will use a generic GPU kernel as fallback when running on GPU.\n"
     ]
    },
    {
     "name": "stderr",
     "output_type": "stream",
     "text": [
      "2024-11-18 13:34:31.349319: I tensorflow/core/grappler/optimizers/custom_graph_optimizer_registry.cc:113] Plugin optimizer for device_type GPU is enabled.\n",
      "2024-11-18 13:34:31.711572: I tensorflow/core/grappler/optimizers/custom_graph_optimizer_registry.cc:113] Plugin optimizer for device_type GPU is enabled.\n"
     ]
    },
    {
     "name": "stdout",
     "output_type": "stream",
     "text": [
      "1/1 [==============================] - 0s 101ms/step\n",
      "Running subset length: 96\n",
      "WARNING:tensorflow:Layer lstm_26 will not use cuDNN kernels since it doesn't meet the criteria. It will use a generic GPU kernel as fallback when running on GPU.\n"
     ]
    },
    {
     "name": "stderr",
     "output_type": "stream",
     "text": [
      "2024-11-18 13:34:53.882811: I tensorflow/core/grappler/optimizers/custom_graph_optimizer_registry.cc:113] Plugin optimizer for device_type GPU is enabled.\n",
      "2024-11-18 13:34:54.248376: I tensorflow/core/grappler/optimizers/custom_graph_optimizer_registry.cc:113] Plugin optimizer for device_type GPU is enabled.\n"
     ]
    },
    {
     "name": "stdout",
     "output_type": "stream",
     "text": [
      "1/1 [==============================] - 0s 103ms/step\n",
      "Running subset length: 102\n",
      "WARNING:tensorflow:Layer lstm_27 will not use cuDNN kernels since it doesn't meet the criteria. It will use a generic GPU kernel as fallback when running on GPU.\n"
     ]
    },
    {
     "name": "stderr",
     "output_type": "stream",
     "text": [
      "2024-11-18 13:35:16.205854: I tensorflow/core/grappler/optimizers/custom_graph_optimizer_registry.cc:113] Plugin optimizer for device_type GPU is enabled.\n",
      "2024-11-18 13:35:17.111509: I tensorflow/core/grappler/optimizers/custom_graph_optimizer_registry.cc:113] Plugin optimizer for device_type GPU is enabled.\n"
     ]
    },
    {
     "name": "stdout",
     "output_type": "stream",
     "text": [
      "1/1 [==============================] - 0s 106ms/step\n",
      "Running subset length: 108\n",
      "WARNING:tensorflow:Layer lstm_28 will not use cuDNN kernels since it doesn't meet the criteria. It will use a generic GPU kernel as fallback when running on GPU.\n"
     ]
    },
    {
     "name": "stderr",
     "output_type": "stream",
     "text": [
      "2024-11-18 13:35:39.126360: I tensorflow/core/grappler/optimizers/custom_graph_optimizer_registry.cc:113] Plugin optimizer for device_type GPU is enabled.\n",
      "2024-11-18 13:35:39.507176: I tensorflow/core/grappler/optimizers/custom_graph_optimizer_registry.cc:113] Plugin optimizer for device_type GPU is enabled.\n"
     ]
    },
    {
     "name": "stdout",
     "output_type": "stream",
     "text": [
      "1/1 [==============================] - 0s 106ms/step\n",
      "Running subset length: 114\n",
      "WARNING:tensorflow:Layer lstm_29 will not use cuDNN kernels since it doesn't meet the criteria. It will use a generic GPU kernel as fallback when running on GPU.\n"
     ]
    },
    {
     "name": "stderr",
     "output_type": "stream",
     "text": [
      "2024-11-18 13:36:01.441519: I tensorflow/core/grappler/optimizers/custom_graph_optimizer_registry.cc:113] Plugin optimizer for device_type GPU is enabled.\n",
      "2024-11-18 13:36:01.815803: I tensorflow/core/grappler/optimizers/custom_graph_optimizer_registry.cc:113] Plugin optimizer for device_type GPU is enabled.\n"
     ]
    },
    {
     "name": "stdout",
     "output_type": "stream",
     "text": [
      "1/1 [==============================] - 0s 104ms/step\n",
      "Running subset length: 120\n",
      "WARNING:tensorflow:Layer lstm_30 will not use cuDNN kernels since it doesn't meet the criteria. It will use a generic GPU kernel as fallback when running on GPU.\n"
     ]
    },
    {
     "name": "stderr",
     "output_type": "stream",
     "text": [
      "2024-11-18 13:36:30.881671: I tensorflow/core/grappler/optimizers/custom_graph_optimizer_registry.cc:113] Plugin optimizer for device_type GPU is enabled.\n",
      "2024-11-18 13:36:31.244992: I tensorflow/core/grappler/optimizers/custom_graph_optimizer_registry.cc:113] Plugin optimizer for device_type GPU is enabled.\n"
     ]
    },
    {
     "name": "stdout",
     "output_type": "stream",
     "text": [
      "1/1 [==============================] - 0s 108ms/step\n",
      "Running subset length: 126\n",
      "WARNING:tensorflow:Layer lstm_31 will not use cuDNN kernels since it doesn't meet the criteria. It will use a generic GPU kernel as fallback when running on GPU.\n"
     ]
    },
    {
     "name": "stderr",
     "output_type": "stream",
     "text": [
      "2024-11-18 13:37:00.309494: I tensorflow/core/grappler/optimizers/custom_graph_optimizer_registry.cc:113] Plugin optimizer for device_type GPU is enabled.\n",
      "2024-11-18 13:37:00.679059: I tensorflow/core/grappler/optimizers/custom_graph_optimizer_registry.cc:113] Plugin optimizer for device_type GPU is enabled.\n"
     ]
    },
    {
     "name": "stdout",
     "output_type": "stream",
     "text": [
      "1/1 [==============================] - 0s 108ms/step\n",
      "Running subset length: 132\n",
      "WARNING:tensorflow:Layer lstm_32 will not use cuDNN kernels since it doesn't meet the criteria. It will use a generic GPU kernel as fallback when running on GPU.\n"
     ]
    },
    {
     "name": "stderr",
     "output_type": "stream",
     "text": [
      "2024-11-18 13:37:29.757638: I tensorflow/core/grappler/optimizers/custom_graph_optimizer_registry.cc:113] Plugin optimizer for device_type GPU is enabled.\n",
      "2024-11-18 13:37:30.124990: I tensorflow/core/grappler/optimizers/custom_graph_optimizer_registry.cc:113] Plugin optimizer for device_type GPU is enabled.\n"
     ]
    },
    {
     "name": "stdout",
     "output_type": "stream",
     "text": [
      "1/1 [==============================] - 0s 106ms/step\n",
      "Running subset length: 138\n",
      "WARNING:tensorflow:Layer lstm_33 will not use cuDNN kernels since it doesn't meet the criteria. It will use a generic GPU kernel as fallback when running on GPU.\n"
     ]
    },
    {
     "name": "stderr",
     "output_type": "stream",
     "text": [
      "2024-11-18 13:37:59.185285: I tensorflow/core/grappler/optimizers/custom_graph_optimizer_registry.cc:113] Plugin optimizer for device_type GPU is enabled.\n",
      "2024-11-18 13:37:59.550880: I tensorflow/core/grappler/optimizers/custom_graph_optimizer_registry.cc:113] Plugin optimizer for device_type GPU is enabled.\n"
     ]
    },
    {
     "name": "stdout",
     "output_type": "stream",
     "text": [
      "1/1 [==============================] - 0s 108ms/step\n",
      "Running subset length: 144\n",
      "WARNING:tensorflow:Layer lstm_34 will not use cuDNN kernels since it doesn't meet the criteria. It will use a generic GPU kernel as fallback when running on GPU.\n"
     ]
    },
    {
     "name": "stderr",
     "output_type": "stream",
     "text": [
      "2024-11-18 13:38:28.655061: I tensorflow/core/grappler/optimizers/custom_graph_optimizer_registry.cc:113] Plugin optimizer for device_type GPU is enabled.\n",
      "2024-11-18 13:38:29.026827: I tensorflow/core/grappler/optimizers/custom_graph_optimizer_registry.cc:113] Plugin optimizer for device_type GPU is enabled.\n"
     ]
    },
    {
     "name": "stdout",
     "output_type": "stream",
     "text": [
      "1/1 [==============================] - 0s 109ms/step\n",
      "Running subset length: 150\n",
      "WARNING:tensorflow:Layer lstm_35 will not use cuDNN kernels since it doesn't meet the criteria. It will use a generic GPU kernel as fallback when running on GPU.\n"
     ]
    },
    {
     "name": "stderr",
     "output_type": "stream",
     "text": [
      "2024-11-18 13:39:05.288968: I tensorflow/core/grappler/optimizers/custom_graph_optimizer_registry.cc:113] Plugin optimizer for device_type GPU is enabled.\n",
      "2024-11-18 13:39:06.127490: I tensorflow/core/grappler/optimizers/custom_graph_optimizer_registry.cc:113] Plugin optimizer for device_type GPU is enabled.\n"
     ]
    },
    {
     "name": "stdout",
     "output_type": "stream",
     "text": [
      "1/1 [==============================] - 0s 108ms/step\n",
      "Running subset length: 156\n",
      "WARNING:tensorflow:Layer lstm_36 will not use cuDNN kernels since it doesn't meet the criteria. It will use a generic GPU kernel as fallback when running on GPU.\n"
     ]
    },
    {
     "name": "stderr",
     "output_type": "stream",
     "text": [
      "2024-11-18 13:39:45.767946: I tensorflow/core/grappler/optimizers/custom_graph_optimizer_registry.cc:113] Plugin optimizer for device_type GPU is enabled.\n",
      "2024-11-18 13:39:46.137129: I tensorflow/core/grappler/optimizers/custom_graph_optimizer_registry.cc:113] Plugin optimizer for device_type GPU is enabled.\n"
     ]
    },
    {
     "name": "stdout",
     "output_type": "stream",
     "text": [
      "1/1 [==============================] - 0s 102ms/step\n",
      "Running subset length: 162\n",
      "WARNING:tensorflow:Layer lstm_37 will not use cuDNN kernels since it doesn't meet the criteria. It will use a generic GPU kernel as fallback when running on GPU.\n"
     ]
    },
    {
     "name": "stderr",
     "output_type": "stream",
     "text": [
      "2024-11-18 13:40:22.481281: I tensorflow/core/grappler/optimizers/custom_graph_optimizer_registry.cc:113] Plugin optimizer for device_type GPU is enabled.\n",
      "2024-11-18 13:40:22.842485: I tensorflow/core/grappler/optimizers/custom_graph_optimizer_registry.cc:113] Plugin optimizer for device_type GPU is enabled.\n"
     ]
    },
    {
     "name": "stdout",
     "output_type": "stream",
     "text": [
      "1/1 [==============================] - 0s 107ms/step\n",
      "Running subset length: 168\n",
      "WARNING:tensorflow:Layer lstm_38 will not use cuDNN kernels since it doesn't meet the criteria. It will use a generic GPU kernel as fallback when running on GPU.\n"
     ]
    },
    {
     "name": "stderr",
     "output_type": "stream",
     "text": [
      "2024-11-18 13:40:59.115633: I tensorflow/core/grappler/optimizers/custom_graph_optimizer_registry.cc:113] Plugin optimizer for device_type GPU is enabled.\n",
      "2024-11-18 13:40:59.480326: I tensorflow/core/grappler/optimizers/custom_graph_optimizer_registry.cc:113] Plugin optimizer for device_type GPU is enabled.\n"
     ]
    },
    {
     "name": "stdout",
     "output_type": "stream",
     "text": [
      "1/1 [==============================] - 0s 104ms/step\n",
      "Running subset length: 174\n",
      "WARNING:tensorflow:Layer lstm_39 will not use cuDNN kernels since it doesn't meet the criteria. It will use a generic GPU kernel as fallback when running on GPU.\n"
     ]
    },
    {
     "name": "stderr",
     "output_type": "stream",
     "text": [
      "2024-11-18 13:41:35.751976: I tensorflow/core/grappler/optimizers/custom_graph_optimizer_registry.cc:113] Plugin optimizer for device_type GPU is enabled.\n",
      "2024-11-18 13:41:36.116518: I tensorflow/core/grappler/optimizers/custom_graph_optimizer_registry.cc:113] Plugin optimizer for device_type GPU is enabled.\n"
     ]
    },
    {
     "name": "stdout",
     "output_type": "stream",
     "text": [
      "1/1 [==============================] - 0s 103ms/step\n",
      "Running subset length: 180\n",
      "WARNING:tensorflow:Layer lstm_40 will not use cuDNN kernels since it doesn't meet the criteria. It will use a generic GPU kernel as fallback when running on GPU.\n"
     ]
    },
    {
     "name": "stderr",
     "output_type": "stream",
     "text": [
      "2024-11-18 13:42:19.512000: I tensorflow/core/grappler/optimizers/custom_graph_optimizer_registry.cc:113] Plugin optimizer for device_type GPU is enabled.\n",
      "2024-11-18 13:42:19.873397: I tensorflow/core/grappler/optimizers/custom_graph_optimizer_registry.cc:113] Plugin optimizer for device_type GPU is enabled.\n"
     ]
    },
    {
     "name": "stdout",
     "output_type": "stream",
     "text": [
      "1/1 [==============================] - 0s 101ms/step\n",
      "Running subset length: 186\n",
      "WARNING:tensorflow:Layer lstm_41 will not use cuDNN kernels since it doesn't meet the criteria. It will use a generic GPU kernel as fallback when running on GPU.\n"
     ]
    },
    {
     "name": "stderr",
     "output_type": "stream",
     "text": [
      "2024-11-18 13:43:02.963258: I tensorflow/core/grappler/optimizers/custom_graph_optimizer_registry.cc:113] Plugin optimizer for device_type GPU is enabled.\n",
      "2024-11-18 13:43:03.318039: I tensorflow/core/grappler/optimizers/custom_graph_optimizer_registry.cc:113] Plugin optimizer for device_type GPU is enabled.\n"
     ]
    },
    {
     "name": "stdout",
     "output_type": "stream",
     "text": [
      "1/1 [==============================] - 0s 110ms/step\n",
      "Running subset length: 192\n",
      "WARNING:tensorflow:Layer lstm_42 will not use cuDNN kernels since it doesn't meet the criteria. It will use a generic GPU kernel as fallback when running on GPU.\n"
     ]
    },
    {
     "name": "stderr",
     "output_type": "stream",
     "text": [
      "2024-11-18 13:43:46.426315: I tensorflow/core/grappler/optimizers/custom_graph_optimizer_registry.cc:113] Plugin optimizer for device_type GPU is enabled.\n",
      "2024-11-18 13:43:46.803267: I tensorflow/core/grappler/optimizers/custom_graph_optimizer_registry.cc:113] Plugin optimizer for device_type GPU is enabled.\n"
     ]
    },
    {
     "name": "stdout",
     "output_type": "stream",
     "text": [
      "1/1 [==============================] - 0s 103ms/step\n",
      "Running subset length: 198\n",
      "WARNING:tensorflow:Layer lstm_43 will not use cuDNN kernels since it doesn't meet the criteria. It will use a generic GPU kernel as fallback when running on GPU.\n"
     ]
    },
    {
     "name": "stderr",
     "output_type": "stream",
     "text": [
      "2024-11-18 13:44:29.872118: I tensorflow/core/grappler/optimizers/custom_graph_optimizer_registry.cc:113] Plugin optimizer for device_type GPU is enabled.\n",
      "2024-11-18 13:44:30.231472: I tensorflow/core/grappler/optimizers/custom_graph_optimizer_registry.cc:113] Plugin optimizer for device_type GPU is enabled.\n"
     ]
    },
    {
     "name": "stdout",
     "output_type": "stream",
     "text": [
      "1/1 [==============================] - 0s 106ms/step\n",
      "Running subset length: 204\n",
      "WARNING:tensorflow:Layer lstm_44 will not use cuDNN kernels since it doesn't meet the criteria. It will use a generic GPU kernel as fallback when running on GPU.\n"
     ]
    },
    {
     "name": "stderr",
     "output_type": "stream",
     "text": [
      "2024-11-18 13:45:13.351259: I tensorflow/core/grappler/optimizers/custom_graph_optimizer_registry.cc:113] Plugin optimizer for device_type GPU is enabled.\n",
      "2024-11-18 13:45:14.263450: I tensorflow/core/grappler/optimizers/custom_graph_optimizer_registry.cc:113] Plugin optimizer for device_type GPU is enabled.\n"
     ]
    },
    {
     "name": "stdout",
     "output_type": "stream",
     "text": [
      "1/1 [==============================] - 0s 106ms/step\n",
      "Running subset length: 210\n",
      "WARNING:tensorflow:Layer lstm_45 will not use cuDNN kernels since it doesn't meet the criteria. It will use a generic GPU kernel as fallback when running on GPU.\n"
     ]
    },
    {
     "name": "stderr",
     "output_type": "stream",
     "text": [
      "2024-11-18 13:45:57.822953: I tensorflow/core/grappler/optimizers/custom_graph_optimizer_registry.cc:113] Plugin optimizer for device_type GPU is enabled.\n",
      "2024-11-18 13:45:58.184167: I tensorflow/core/grappler/optimizers/custom_graph_optimizer_registry.cc:113] Plugin optimizer for device_type GPU is enabled.\n"
     ]
    },
    {
     "name": "stdout",
     "output_type": "stream",
     "text": [
      "1/1 [==============================] - 0s 109ms/step\n",
      "Running subset length: 216\n",
      "WARNING:tensorflow:Layer lstm_46 will not use cuDNN kernels since it doesn't meet the criteria. It will use a generic GPU kernel as fallback when running on GPU.\n"
     ]
    },
    {
     "name": "stderr",
     "output_type": "stream",
     "text": [
      "2024-11-18 13:46:48.643622: I tensorflow/core/grappler/optimizers/custom_graph_optimizer_registry.cc:113] Plugin optimizer for device_type GPU is enabled.\n",
      "2024-11-18 13:46:49.009606: I tensorflow/core/grappler/optimizers/custom_graph_optimizer_registry.cc:113] Plugin optimizer for device_type GPU is enabled.\n"
     ]
    },
    {
     "name": "stdout",
     "output_type": "stream",
     "text": [
      "1/1 [==============================] - 0s 105ms/step\n",
      "Running subset length: 222\n",
      "WARNING:tensorflow:Layer lstm_47 will not use cuDNN kernels since it doesn't meet the criteria. It will use a generic GPU kernel as fallback when running on GPU.\n"
     ]
    },
    {
     "name": "stderr",
     "output_type": "stream",
     "text": [
      "2024-11-18 13:47:39.209913: I tensorflow/core/grappler/optimizers/custom_graph_optimizer_registry.cc:113] Plugin optimizer for device_type GPU is enabled.\n",
      "2024-11-18 13:47:39.569064: I tensorflow/core/grappler/optimizers/custom_graph_optimizer_registry.cc:113] Plugin optimizer for device_type GPU is enabled.\n"
     ]
    },
    {
     "name": "stdout",
     "output_type": "stream",
     "text": [
      "1/1 [==============================] - 0s 105ms/step\n",
      "Running subset length: 228\n",
      "WARNING:tensorflow:Layer lstm_48 will not use cuDNN kernels since it doesn't meet the criteria. It will use a generic GPU kernel as fallback when running on GPU.\n"
     ]
    },
    {
     "name": "stderr",
     "output_type": "stream",
     "text": [
      "2024-11-18 13:48:29.561824: I tensorflow/core/grappler/optimizers/custom_graph_optimizer_registry.cc:113] Plugin optimizer for device_type GPU is enabled.\n",
      "2024-11-18 13:48:29.925061: I tensorflow/core/grappler/optimizers/custom_graph_optimizer_registry.cc:113] Plugin optimizer for device_type GPU is enabled.\n"
     ]
    },
    {
     "name": "stdout",
     "output_type": "stream",
     "text": [
      "1/1 [==============================] - 0s 116ms/step\n",
      "Running subset length: 234\n",
      "WARNING:tensorflow:Layer lstm_49 will not use cuDNN kernels since it doesn't meet the criteria. It will use a generic GPU kernel as fallback when running on GPU.\n"
     ]
    },
    {
     "name": "stderr",
     "output_type": "stream",
     "text": [
      "2024-11-18 13:49:55.540275: I tensorflow/core/grappler/optimizers/custom_graph_optimizer_registry.cc:113] Plugin optimizer for device_type GPU is enabled.\n",
      "2024-11-18 13:49:55.923018: I tensorflow/core/grappler/optimizers/custom_graph_optimizer_registry.cc:113] Plugin optimizer for device_type GPU is enabled.\n"
     ]
    },
    {
     "name": "stdout",
     "output_type": "stream",
     "text": [
      "1/1 [==============================] - 0s 109ms/step\n",
      "Running subset length: 240\n",
      "WARNING:tensorflow:Layer lstm_50 will not use cuDNN kernels since it doesn't meet the criteria. It will use a generic GPU kernel as fallback when running on GPU.\n"
     ]
    },
    {
     "name": "stderr",
     "output_type": "stream",
     "text": [
      "2024-11-18 13:50:46.228440: I tensorflow/core/grappler/optimizers/custom_graph_optimizer_registry.cc:113] Plugin optimizer for device_type GPU is enabled.\n",
      "2024-11-18 13:50:46.603551: I tensorflow/core/grappler/optimizers/custom_graph_optimizer_registry.cc:113] Plugin optimizer for device_type GPU is enabled.\n"
     ]
    },
    {
     "name": "stdout",
     "output_type": "stream",
     "text": [
      "1/1 [==============================] - 0s 108ms/step\n",
      "Running subset length: 246\n",
      "WARNING:tensorflow:Layer lstm_51 will not use cuDNN kernels since it doesn't meet the criteria. It will use a generic GPU kernel as fallback when running on GPU.\n"
     ]
    },
    {
     "name": "stderr",
     "output_type": "stream",
     "text": [
      "2024-11-18 13:51:44.171181: I tensorflow/core/grappler/optimizers/custom_graph_optimizer_registry.cc:113] Plugin optimizer for device_type GPU is enabled.\n",
      "2024-11-18 13:51:44.543774: I tensorflow/core/grappler/optimizers/custom_graph_optimizer_registry.cc:113] Plugin optimizer for device_type GPU is enabled.\n"
     ]
    },
    {
     "name": "stdout",
     "output_type": "stream",
     "text": [
      "1/1 [==============================] - 0s 110ms/step\n",
      "Running subset length: 252\n",
      "WARNING:tensorflow:Layer lstm_52 will not use cuDNN kernels since it doesn't meet the criteria. It will use a generic GPU kernel as fallback when running on GPU.\n"
     ]
    },
    {
     "name": "stderr",
     "output_type": "stream",
     "text": [
      "2024-11-18 13:52:42.097958: I tensorflow/core/grappler/optimizers/custom_graph_optimizer_registry.cc:113] Plugin optimizer for device_type GPU is enabled.\n",
      "2024-11-18 13:52:43.077090: I tensorflow/core/grappler/optimizers/custom_graph_optimizer_registry.cc:113] Plugin optimizer for device_type GPU is enabled.\n"
     ]
    },
    {
     "name": "stdout",
     "output_type": "stream",
     "text": [
      "1/1 [==============================] - 0s 109ms/step\n",
      "Running subset length: 258\n",
      "WARNING:tensorflow:Layer lstm_53 will not use cuDNN kernels since it doesn't meet the criteria. It will use a generic GPU kernel as fallback when running on GPU.\n"
     ]
    },
    {
     "name": "stderr",
     "output_type": "stream",
     "text": [
      "2024-11-18 13:53:41.415109: I tensorflow/core/grappler/optimizers/custom_graph_optimizer_registry.cc:113] Plugin optimizer for device_type GPU is enabled.\n",
      "2024-11-18 13:53:41.781729: I tensorflow/core/grappler/optimizers/custom_graph_optimizer_registry.cc:113] Plugin optimizer for device_type GPU is enabled.\n"
     ]
    },
    {
     "name": "stdout",
     "output_type": "stream",
     "text": [
      "1/1 [==============================] - 0s 107ms/step\n",
      "Running subset length: 264\n",
      "WARNING:tensorflow:Layer lstm_54 will not use cuDNN kernels since it doesn't meet the criteria. It will use a generic GPU kernel as fallback when running on GPU.\n"
     ]
    },
    {
     "name": "stderr",
     "output_type": "stream",
     "text": [
      "2024-11-18 13:54:39.480061: I tensorflow/core/grappler/optimizers/custom_graph_optimizer_registry.cc:113] Plugin optimizer for device_type GPU is enabled.\n",
      "2024-11-18 13:54:39.844470: I tensorflow/core/grappler/optimizers/custom_graph_optimizer_registry.cc:113] Plugin optimizer for device_type GPU is enabled.\n"
     ]
    },
    {
     "name": "stdout",
     "output_type": "stream",
     "text": [
      "1/1 [==============================] - 0s 111ms/step\n",
      "Running subset length: 270\n",
      "WARNING:tensorflow:Layer lstm_55 will not use cuDNN kernels since it doesn't meet the criteria. It will use a generic GPU kernel as fallback when running on GPU.\n"
     ]
    },
    {
     "name": "stderr",
     "output_type": "stream",
     "text": [
      "2024-11-18 13:55:37.960244: I tensorflow/core/grappler/optimizers/custom_graph_optimizer_registry.cc:113] Plugin optimizer for device_type GPU is enabled.\n",
      "2024-11-18 13:55:38.324605: I tensorflow/core/grappler/optimizers/custom_graph_optimizer_registry.cc:113] Plugin optimizer for device_type GPU is enabled.\n"
     ]
    },
    {
     "name": "stdout",
     "output_type": "stream",
     "text": [
      "1/1 [==============================] - 0s 111ms/step\n",
      "    sub_length      rmse             predictions  \\\n",
      "0           18  0.422655  [2.0088964, 1.8794075]   \n",
      "1           24  0.413351  [1.8575772, 1.8193538]   \n",
      "2           30  0.400159   [1.730489, 1.7143621]   \n",
      "3           36  0.364762  [1.8328775, 1.7281061]   \n",
      "4           42  0.437661  [1.9043366, 1.8751353]   \n",
      "5           48  0.398240  [1.6926188, 1.6738517]   \n",
      "6           54  0.418953  [1.8186469, 1.8085024]   \n",
      "7           60  0.419641  [1.7797867, 1.7863196]   \n",
      "8           66  0.405145    [1.76516, 1.7512678]   \n",
      "9           72  0.416182  [1.7771593, 1.7787231]   \n",
      "10          78  0.354698   [1.6914319, 1.574486]   \n",
      "11          84  0.422837  [1.7842426, 1.7945567]   \n",
      "12          90  0.399892  [1.7589895, 1.7373347]   \n",
      "13          96  0.403441  [1.7551901, 1.7407423]   \n",
      "14         102  0.398732  [1.7655995, 1.7402997]   \n",
      "15         108  0.413740  [1.7861292, 1.7804894]   \n",
      "16         114  0.375899  [1.8149216, 1.7353779]   \n",
      "17         120  0.413574  [1.8158276, 1.7982178]   \n",
      "18         126  0.415408   [1.824934, 1.8062205]   \n",
      "19         132  0.391332   [1.7763277, 1.735233]   \n",
      "20         138  0.409411  [1.7456021, 1.7439682]   \n",
      "21         144  0.475292   [1.951688, 1.9439703]   \n",
      "22         150  0.401064   [1.797052, 1.7662028]   \n",
      "23         156  0.407119  [1.8392016, 1.8005078]   \n",
      "24         162  0.393324  [1.8094758, 1.7611206]   \n",
      "25         168  0.427023  [1.7932954, 1.8070931]   \n",
      "26         174  0.442176  [1.8734967, 1.8705701]   \n",
      "27         180  0.325061  [1.8055999, 1.6389209]   \n",
      "28         186  0.425048  [1.8497885, 1.8339746]   \n",
      "29         192  0.424774  [1.8360623, 1.8269194]   \n",
      "30         198  0.399866  [1.7746143, 1.7489036]   \n",
      "31         204  0.404610  [1.8027732, 1.7757485]   \n",
      "32         210  0.436674  [1.7449794, 1.7917063]   \n",
      "33         216  0.391410  [1.7809393, 1.7387229]   \n",
      "34         222  0.379868   [1.821201, 1.7460026]   \n",
      "35         228  0.421501  [1.7297308, 1.7531785]   \n",
      "36         234  0.382666  [1.7316395, 1.6819156]   \n",
      "37         240  0.420363  [1.7392832, 1.7586915]   \n",
      "38         246  0.410394  [1.8160914, 1.7931932]   \n",
      "39         252  0.413788  [1.8143799, 1.7977436]   \n",
      "40         258  0.393015  [1.7898839, 1.7477759]   \n",
      "41         264  0.446572  [1.8280848, 1.8573515]   \n",
      "42         270  0.397357  [1.8059888, 1.7656664]   \n",
      "\n",
      "                                      actual  \\\n",
      "0   [2.1041043859678243, 1.2893140393353182]   \n",
      "1   [2.1041043859678243, 1.2893140393353182]   \n",
      "2   [2.1041043859678243, 1.2893140393353182]   \n",
      "3   [2.1041043859678243, 1.2893140393353182]   \n",
      "4   [2.1041043859678243, 1.2893140393353182]   \n",
      "5   [2.1041043859678243, 1.2893140393353182]   \n",
      "6   [2.1041043859678243, 1.2893140393353182]   \n",
      "7   [2.1041043859678243, 1.2893140393353182]   \n",
      "8   [2.1041043859678243, 1.2893140393353182]   \n",
      "9   [2.1041043859678243, 1.2893140393353182]   \n",
      "10  [2.1041043859678243, 1.2893140393353182]   \n",
      "11  [2.1041043859678243, 1.2893140393353182]   \n",
      "12  [2.1041043859678243, 1.2893140393353182]   \n",
      "13  [2.1041043859678243, 1.2893140393353182]   \n",
      "14  [2.1041043859678243, 1.2893140393353182]   \n",
      "15  [2.1041043859678243, 1.2893140393353182]   \n",
      "16  [2.1041043859678243, 1.2893140393353182]   \n",
      "17  [2.1041043859678243, 1.2893140393353182]   \n",
      "18  [2.1041043859678243, 1.2893140393353182]   \n",
      "19  [2.1041043859678243, 1.2893140393353182]   \n",
      "20  [2.1041043859678243, 1.2893140393353182]   \n",
      "21  [2.1041043859678243, 1.2893140393353182]   \n",
      "22  [2.1041043859678243, 1.2893140393353182]   \n",
      "23  [2.1041043859678243, 1.2893140393353182]   \n",
      "24  [2.1041043859678243, 1.2893140393353182]   \n",
      "25  [2.1041043859678243, 1.2893140393353182]   \n",
      "26  [2.1041043859678243, 1.2893140393353182]   \n",
      "27  [2.1041043859678243, 1.2893140393353182]   \n",
      "28  [2.1041043859678243, 1.2893140393353182]   \n",
      "29  [2.1041043859678243, 1.2893140393353182]   \n",
      "30  [2.1041043859678243, 1.2893140393353182]   \n",
      "31  [2.1041043859678243, 1.2893140393353182]   \n",
      "32  [2.1041043859678243, 1.2893140393353182]   \n",
      "33  [2.1041043859678243, 1.2893140393353182]   \n",
      "34  [2.1041043859678243, 1.2893140393353182]   \n",
      "35  [2.1041043859678243, 1.2893140393353182]   \n",
      "36  [2.1041043859678243, 1.2893140393353182]   \n",
      "37  [2.1041043859678243, 1.2893140393353182]   \n",
      "38  [2.1041043859678243, 1.2893140393353182]   \n",
      "39  [2.1041043859678243, 1.2893140393353182]   \n",
      "40  [2.1041043859678243, 1.2893140393353182]   \n",
      "41  [2.1041043859678243, 1.2893140393353182]   \n",
      "42  [2.1041043859678243, 1.2893140393353182]   \n",
      "\n",
      "                                forecast_dates        geo  series  \n",
      "0   [2024-09-01 00:00:00, 2024-10-01 00:00:00]  EU27_2020  values  \n",
      "1   [2024-09-01 00:00:00, 2024-10-01 00:00:00]  EU27_2020  values  \n",
      "2   [2024-09-01 00:00:00, 2024-10-01 00:00:00]  EU27_2020  values  \n",
      "3   [2024-09-01 00:00:00, 2024-10-01 00:00:00]  EU27_2020  values  \n",
      "4   [2024-09-01 00:00:00, 2024-10-01 00:00:00]  EU27_2020  values  \n",
      "5   [2024-09-01 00:00:00, 2024-10-01 00:00:00]  EU27_2020  values  \n",
      "6   [2024-09-01 00:00:00, 2024-10-01 00:00:00]  EU27_2020  values  \n",
      "7   [2024-09-01 00:00:00, 2024-10-01 00:00:00]  EU27_2020  values  \n",
      "8   [2024-09-01 00:00:00, 2024-10-01 00:00:00]  EU27_2020  values  \n",
      "9   [2024-09-01 00:00:00, 2024-10-01 00:00:00]  EU27_2020  values  \n",
      "10  [2024-09-01 00:00:00, 2024-10-01 00:00:00]  EU27_2020  values  \n",
      "11  [2024-09-01 00:00:00, 2024-10-01 00:00:00]  EU27_2020  values  \n",
      "12  [2024-09-01 00:00:00, 2024-10-01 00:00:00]  EU27_2020  values  \n",
      "13  [2024-09-01 00:00:00, 2024-10-01 00:00:00]  EU27_2020  values  \n",
      "14  [2024-09-01 00:00:00, 2024-10-01 00:00:00]  EU27_2020  values  \n",
      "15  [2024-09-01 00:00:00, 2024-10-01 00:00:00]  EU27_2020  values  \n",
      "16  [2024-09-01 00:00:00, 2024-10-01 00:00:00]  EU27_2020  values  \n",
      "17  [2024-09-01 00:00:00, 2024-10-01 00:00:00]  EU27_2020  values  \n",
      "18  [2024-09-01 00:00:00, 2024-10-01 00:00:00]  EU27_2020  values  \n",
      "19  [2024-09-01 00:00:00, 2024-10-01 00:00:00]  EU27_2020  values  \n",
      "20  [2024-09-01 00:00:00, 2024-10-01 00:00:00]  EU27_2020  values  \n",
      "21  [2024-09-01 00:00:00, 2024-10-01 00:00:00]  EU27_2020  values  \n",
      "22  [2024-09-01 00:00:00, 2024-10-01 00:00:00]  EU27_2020  values  \n",
      "23  [2024-09-01 00:00:00, 2024-10-01 00:00:00]  EU27_2020  values  \n",
      "24  [2024-09-01 00:00:00, 2024-10-01 00:00:00]  EU27_2020  values  \n",
      "25  [2024-09-01 00:00:00, 2024-10-01 00:00:00]  EU27_2020  values  \n",
      "26  [2024-09-01 00:00:00, 2024-10-01 00:00:00]  EU27_2020  values  \n",
      "27  [2024-09-01 00:00:00, 2024-10-01 00:00:00]  EU27_2020  values  \n",
      "28  [2024-09-01 00:00:00, 2024-10-01 00:00:00]  EU27_2020  values  \n",
      "29  [2024-09-01 00:00:00, 2024-10-01 00:00:00]  EU27_2020  values  \n",
      "30  [2024-09-01 00:00:00, 2024-10-01 00:00:00]  EU27_2020  values  \n",
      "31  [2024-09-01 00:00:00, 2024-10-01 00:00:00]  EU27_2020  values  \n",
      "32  [2024-09-01 00:00:00, 2024-10-01 00:00:00]  EU27_2020  values  \n",
      "33  [2024-09-01 00:00:00, 2024-10-01 00:00:00]  EU27_2020  values  \n",
      "34  [2024-09-01 00:00:00, 2024-10-01 00:00:00]  EU27_2020  values  \n",
      "35  [2024-09-01 00:00:00, 2024-10-01 00:00:00]  EU27_2020  values  \n",
      "36  [2024-09-01 00:00:00, 2024-10-01 00:00:00]  EU27_2020  values  \n",
      "37  [2024-09-01 00:00:00, 2024-10-01 00:00:00]  EU27_2020  values  \n",
      "38  [2024-09-01 00:00:00, 2024-10-01 00:00:00]  EU27_2020  values  \n",
      "39  [2024-09-01 00:00:00, 2024-10-01 00:00:00]  EU27_2020  values  \n",
      "40  [2024-09-01 00:00:00, 2024-10-01 00:00:00]  EU27_2020  values  \n",
      "41  [2024-09-01 00:00:00, 2024-10-01 00:00:00]  EU27_2020  values  \n",
      "42  [2024-09-01 00:00:00, 2024-10-01 00:00:00]  EU27_2020  values  \n"
     ]
    },
    {
     "name": "stderr",
     "output_type": "stream",
     "text": [
      "2024-11-18 13:56:43.712492: I tensorflow/core/grappler/optimizers/custom_graph_optimizer_registry.cc:113] Plugin optimizer for device_type GPU is enabled.\n"
     ]
    }
   ],
   "source": [
    "file_path = '../data_ignore/df_2024-10.csv'  # Replace with your actual file path\n",
    "\n",
    "# Load the data\n",
    "data = load_data(file_path)\n",
    "\n",
    "# Specify the country and series you want to analyze\n",
    "country = 'EU27_2020'    # Replace with the actual country code from your data\n",
    "series = 'values'        # Column name of your series (already 'values' in your data)\n",
    "\n",
    "# Estimate LSTM models and get results\n",
    "results = estimate_lstm_models(data, country, series)\n",
    "\n",
    "# Check if results are not empty\n",
    "if not results.empty:\n",
    "    # Display the results\n",
    "    print(results)\n",
    "    \n",
    "    # Optional: Save results to CSV\n",
    "    results.to_csv('lstm_results.csv', index=False)\n",
    "else:\n",
    "    print(\"No results to display.\")"
   ]
  },
  {
   "cell_type": "code",
   "execution_count": 33,
   "metadata": {},
   "outputs": [
    {
     "data": {
      "text/html": [
       "<div>\n",
       "<style scoped>\n",
       "    .dataframe tbody tr th:only-of-type {\n",
       "        vertical-align: middle;\n",
       "    }\n",
       "\n",
       "    .dataframe tbody tr th {\n",
       "        vertical-align: top;\n",
       "    }\n",
       "\n",
       "    .dataframe thead th {\n",
       "        text-align: right;\n",
       "    }\n",
       "</style>\n",
       "<table border=\"1\" class=\"dataframe\">\n",
       "  <thead>\n",
       "    <tr style=\"text-align: right;\">\n",
       "      <th></th>\n",
       "      <th>sub_length</th>\n",
       "      <th>rmse</th>\n",
       "      <th>predictions</th>\n",
       "      <th>actual</th>\n",
       "      <th>forecast_dates</th>\n",
       "      <th>geo</th>\n",
       "      <th>series</th>\n",
       "    </tr>\n",
       "  </thead>\n",
       "  <tbody>\n",
       "    <tr>\n",
       "      <th>27</th>\n",
       "      <td>180</td>\n",
       "      <td>0.325061</td>\n",
       "      <td>[1.8055999, 1.6389209]</td>\n",
       "      <td>[2.1041043859678243, 1.2893140393353182]</td>\n",
       "      <td>[2024-09-01 00:00:00, 2024-10-01 00:00:00]</td>\n",
       "      <td>EU27_2020</td>\n",
       "      <td>values</td>\n",
       "    </tr>\n",
       "  </tbody>\n",
       "</table>\n",
       "</div>"
      ],
      "text/plain": [
       "    sub_length      rmse             predictions  \\\n",
       "27         180  0.325061  [1.8055999, 1.6389209]   \n",
       "\n",
       "                                      actual  \\\n",
       "27  [2.1041043859678243, 1.2893140393353182]   \n",
       "\n",
       "                                forecast_dates        geo  series  \n",
       "27  [2024-09-01 00:00:00, 2024-10-01 00:00:00]  EU27_2020  values  "
      ]
     },
     "execution_count": 33,
     "metadata": {},
     "output_type": "execute_result"
    }
   ],
   "source": [
    "# Find the minimum RMSE value\n",
    "min_rmse_value = results['rmse'].min()\n",
    "\n",
    "# Get all rows with the minimum RMSE\n",
    "results[results['rmse'] == min_rmse_value]"
   ]
  },
  {
   "cell_type": "code",
   "execution_count": 35,
   "metadata": {},
   "outputs": [
    {
     "data": {
      "text/html": [
       "<div>\n",
       "<style scoped>\n",
       "    .dataframe tbody tr th:only-of-type {\n",
       "        vertical-align: middle;\n",
       "    }\n",
       "\n",
       "    .dataframe tbody tr th {\n",
       "        vertical-align: top;\n",
       "    }\n",
       "\n",
       "    .dataframe thead th {\n",
       "        text-align: right;\n",
       "    }\n",
       "</style>\n",
       "<table border=\"1\" class=\"dataframe\">\n",
       "  <thead>\n",
       "    <tr style=\"text-align: right;\">\n",
       "      <th></th>\n",
       "      <th>geo</th>\n",
       "      <th>time</th>\n",
       "      <th>values</th>\n",
       "      <th>values_scale</th>\n",
       "      <th>values_log</th>\n",
       "      <th>values_scale_mean</th>\n",
       "      <th>values_scale_sd</th>\n",
       "    </tr>\n",
       "  </thead>\n",
       "  <tbody>\n",
       "    <tr>\n",
       "      <th>267</th>\n",
       "      <td>EU27_2020</td>\n",
       "      <td>2024-04-01</td>\n",
       "      <td>222460.1</td>\n",
       "      <td>1.939688</td>\n",
       "      <td>12.312503</td>\n",
       "      <td>142247.045221</td>\n",
       "      <td>41429.810588</td>\n",
       "    </tr>\n",
       "    <tr>\n",
       "      <th>268</th>\n",
       "      <td>EU27_2020</td>\n",
       "      <td>2024-05-01</td>\n",
       "      <td>216901.6</td>\n",
       "      <td>1.805274</td>\n",
       "      <td>12.287199</td>\n",
       "      <td>142247.045221</td>\n",
       "      <td>41429.810588</td>\n",
       "    </tr>\n",
       "    <tr>\n",
       "      <th>269</th>\n",
       "      <td>EU27_2020</td>\n",
       "      <td>2024-06-01</td>\n",
       "      <td>213480.9</td>\n",
       "      <td>1.722556</td>\n",
       "      <td>12.271303</td>\n",
       "      <td>142247.045221</td>\n",
       "      <td>41429.810588</td>\n",
       "    </tr>\n",
       "    <tr>\n",
       "      <th>270</th>\n",
       "      <td>EU27_2020</td>\n",
       "      <td>2024-07-01</td>\n",
       "      <td>229259.3</td>\n",
       "      <td>2.104104</td>\n",
       "      <td>12.342609</td>\n",
       "      <td>142247.045221</td>\n",
       "      <td>41429.810588</td>\n",
       "    </tr>\n",
       "    <tr>\n",
       "      <th>271</th>\n",
       "      <td>EU27_2020</td>\n",
       "      <td>2024-08-01</td>\n",
       "      <td>195564.8</td>\n",
       "      <td>1.289314</td>\n",
       "      <td>12.183647</td>\n",
       "      <td>142247.045221</td>\n",
       "      <td>41429.810588</td>\n",
       "    </tr>\n",
       "  </tbody>\n",
       "</table>\n",
       "</div>"
      ],
      "text/plain": [
       "           geo       time    values  values_scale  values_log  \\\n",
       "267  EU27_2020 2024-04-01  222460.1      1.939688   12.312503   \n",
       "268  EU27_2020 2024-05-01  216901.6      1.805274   12.287199   \n",
       "269  EU27_2020 2024-06-01  213480.9      1.722556   12.271303   \n",
       "270  EU27_2020 2024-07-01  229259.3      2.104104   12.342609   \n",
       "271  EU27_2020 2024-08-01  195564.8      1.289314   12.183647   \n",
       "\n",
       "     values_scale_mean  values_scale_sd  \n",
       "267      142247.045221     41429.810588  \n",
       "268      142247.045221     41429.810588  \n",
       "269      142247.045221     41429.810588  \n",
       "270      142247.045221     41429.810588  \n",
       "271      142247.045221     41429.810588  "
      ]
     },
     "execution_count": 35,
     "metadata": {},
     "output_type": "execute_result"
    }
   ],
   "source": [
    "df.tail()"
   ]
  },
  {
   "cell_type": "code",
   "execution_count": 38,
   "metadata": {},
   "outputs": [
    {
     "data": {
      "text/html": [
       "<div>\n",
       "<style scoped>\n",
       "    .dataframe tbody tr th:only-of-type {\n",
       "        vertical-align: middle;\n",
       "    }\n",
       "\n",
       "    .dataframe tbody tr th {\n",
       "        vertical-align: top;\n",
       "    }\n",
       "\n",
       "    .dataframe thead th {\n",
       "        text-align: right;\n",
       "    }\n",
       "</style>\n",
       "<table border=\"1\" class=\"dataframe\">\n",
       "  <thead>\n",
       "    <tr style=\"text-align: right;\">\n",
       "      <th></th>\n",
       "      <th>freq</th>\n",
       "      <th>stk_flow</th>\n",
       "      <th>unit</th>\n",
       "      <th>partner</th>\n",
       "      <th>indic</th>\n",
       "      <th>geo</th>\n",
       "      <th>time</th>\n",
       "      <th>values</th>\n",
       "    </tr>\n",
       "  </thead>\n",
       "  <tbody>\n",
       "    <tr>\n",
       "      <th>8619</th>\n",
       "      <td>M</td>\n",
       "      <td>EXP</td>\n",
       "      <td>MIO-EUR-NSA</td>\n",
       "      <td>EXT_EU27_2020</td>\n",
       "      <td>ET-T</td>\n",
       "      <td>SE</td>\n",
       "      <td>2024-04-01</td>\n",
       "      <td>7283.1</td>\n",
       "    </tr>\n",
       "    <tr>\n",
       "      <th>8620</th>\n",
       "      <td>M</td>\n",
       "      <td>EXP</td>\n",
       "      <td>MIO-EUR-NSA</td>\n",
       "      <td>EXT_EU27_2020</td>\n",
       "      <td>ET-T</td>\n",
       "      <td>SE</td>\n",
       "      <td>2024-05-01</td>\n",
       "      <td>7749.4</td>\n",
       "    </tr>\n",
       "    <tr>\n",
       "      <th>8621</th>\n",
       "      <td>M</td>\n",
       "      <td>EXP</td>\n",
       "      <td>MIO-EUR-NSA</td>\n",
       "      <td>EXT_EU27_2020</td>\n",
       "      <td>ET-T</td>\n",
       "      <td>SE</td>\n",
       "      <td>2024-06-01</td>\n",
       "      <td>7086.6</td>\n",
       "    </tr>\n",
       "    <tr>\n",
       "      <th>8622</th>\n",
       "      <td>M</td>\n",
       "      <td>EXP</td>\n",
       "      <td>MIO-EUR-NSA</td>\n",
       "      <td>EXT_EU27_2020</td>\n",
       "      <td>ET-T</td>\n",
       "      <td>SE</td>\n",
       "      <td>2024-07-01</td>\n",
       "      <td>6549.0</td>\n",
       "    </tr>\n",
       "    <tr>\n",
       "      <th>8623</th>\n",
       "      <td>M</td>\n",
       "      <td>EXP</td>\n",
       "      <td>MIO-EUR-NSA</td>\n",
       "      <td>EXT_EU27_2020</td>\n",
       "      <td>ET-T</td>\n",
       "      <td>SE</td>\n",
       "      <td>2024-08-01</td>\n",
       "      <td>6122.8</td>\n",
       "    </tr>\n",
       "  </tbody>\n",
       "</table>\n",
       "</div>"
      ],
      "text/plain": [
       "     freq stk_flow         unit        partner indic geo       time  values\n",
       "8619    M      EXP  MIO-EUR-NSA  EXT_EU27_2020  ET-T  SE 2024-04-01  7283.1\n",
       "8620    M      EXP  MIO-EUR-NSA  EXT_EU27_2020  ET-T  SE 2024-05-01  7749.4\n",
       "8621    M      EXP  MIO-EUR-NSA  EXT_EU27_2020  ET-T  SE 2024-06-01  7086.6\n",
       "8622    M      EXP  MIO-EUR-NSA  EXT_EU27_2020  ET-T  SE 2024-07-01  6549.0\n",
       "8623    M      EXP  MIO-EUR-NSA  EXT_EU27_2020  ET-T  SE 2024-08-01  6122.8"
      ]
     },
     "execution_count": 38,
     "metadata": {},
     "output_type": "execute_result"
    }
   ],
   "source": [
    "data.tail()"
   ]
  },
  {
   "cell_type": "code",
   "execution_count": null,
   "metadata": {},
   "outputs": [],
   "source": []
  },
  {
   "cell_type": "markdown",
   "metadata": {},
   "source": [
    "**IMPORTANT**:\n",
    "\n",
    "Need to review code such that the date for the predictions is set correct. "
   ]
  }
 ],
 "metadata": {
  "kernelspec": {
   "display_name": "tf",
   "language": "python",
   "name": "python3"
  },
  "language_info": {
   "codemirror_mode": {
    "name": "ipython",
    "version": 3
   },
   "file_extension": ".py",
   "mimetype": "text/x-python",
   "name": "python",
   "nbconvert_exporter": "python",
   "pygments_lexer": "ipython3",
   "version": "3.9.16"
  }
 },
 "nbformat": 4,
 "nbformat_minor": 2
}
